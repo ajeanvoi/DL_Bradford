{
  "nbformat": 4,
  "nbformat_minor": 0,
  "metadata": {
    "colab": {
      "provenance": [],
      "machine_shape": "hm",
      "authorship_tag": "ABX9TyPgIRc11RJSmnirCg9XHjsF",
      "include_colab_link": true
    },
    "kernelspec": {
      "name": "python3",
      "display_name": "Python 3"
    },
    "language_info": {
      "name": "python"
    }
  },
  "cells": [
    {
      "cell_type": "markdown",
      "metadata": {
        "id": "view-in-github",
        "colab_type": "text"
      },
      "source": [
        "<a href=\"https://colab.research.google.com/github/ajeanvoi/DL_Bradford/blob/main/DL_Saltaire.ipynb\" target=\"_parent\"><img src=\"https://colab.research.google.com/assets/colab-badge.svg\" alt=\"Open In Colab\"/></a>"
      ]
    },
    {
      "cell_type": "code",
      "source": [
        "# Clone GitHub\n",
        "!git clone https://github.com/ajeanvoi/DL_Bradford.git"
      ],
      "metadata": {
        "colab": {
          "base_uri": "https://localhost:8080/"
        },
        "id": "NW6ed1BiDlpp",
        "outputId": "e911693c-6652-4023-f3ff-0344d576d8b1"
      },
      "execution_count": null,
      "outputs": [
        {
          "output_type": "stream",
          "name": "stdout",
          "text": [
            "Cloning into 'DL_Bradford'...\n",
            "remote: Enumerating objects: 121, done.\u001b[K\n",
            "remote: Counting objects: 100% (47/47), done.\u001b[K\n",
            "remote: Compressing objects: 100% (39/39), done.\u001b[K\n",
            "remote: Total 121 (delta 14), reused 22 (delta 5), pack-reused 74\u001b[K\n",
            "Receiving objects: 100% (121/121), 54.90 MiB | 13.55 MiB/s, done.\n",
            "Resolving deltas: 100% (19/19), done.\n",
            "Updating files: 100% (78/78), done.\n"
          ]
        }
      ]
    },
    {
      "cell_type": "code",
      "source": [
        "# Check if GPU\n",
        "!nvidia-smi"
      ],
      "metadata": {
        "colab": {
          "base_uri": "https://localhost:8080/"
        },
        "id": "aPIcw-JRjfY7",
        "outputId": "41bf2541-5743-4a22-bc0a-be043ab60f91"
      },
      "execution_count": null,
      "outputs": [
        {
          "output_type": "stream",
          "name": "stdout",
          "text": [
            "Mon Jul 22 13:15:39 2024       \n",
            "+---------------------------------------------------------------------------------------+\n",
            "| NVIDIA-SMI 535.104.05             Driver Version: 535.104.05   CUDA Version: 12.2     |\n",
            "|-----------------------------------------+----------------------+----------------------+\n",
            "| GPU  Name                 Persistence-M | Bus-Id        Disp.A | Volatile Uncorr. ECC |\n",
            "| Fan  Temp   Perf          Pwr:Usage/Cap |         Memory-Usage | GPU-Util  Compute M. |\n",
            "|                                         |                      |               MIG M. |\n",
            "|=========================================+======================+======================|\n",
            "|   0  Tesla T4                       Off | 00000000:00:04.0 Off |                    0 |\n",
            "| N/A   53C    P0              28W /  70W |      0MiB / 15360MiB |      0%      Default |\n",
            "|                                         |                      |                  N/A |\n",
            "+-----------------------------------------+----------------------+----------------------+\n",
            "                                                                                         \n",
            "+---------------------------------------------------------------------------------------+\n",
            "| Processes:                                                                            |\n",
            "|  GPU   GI   CI        PID   Type   Process name                            GPU Memory |\n",
            "|        ID   ID                                                             Usage      |\n",
            "|=======================================================================================|\n",
            "|  No running processes found                                                           |\n",
            "+---------------------------------------------------------------------------------------+\n"
          ]
        }
      ]
    },
    {
      "cell_type": "code",
      "source": [
        "# Ajouter le chemin du dépôt cloné au sys.path\n",
        "import sys\n",
        "repo_path = '/content/DL_Bradford'\n",
        "sys.path.append(repo_path)"
      ],
      "metadata": {
        "id": "ljrizeOSkcdJ"
      },
      "execution_count": 77,
      "outputs": []
    },
    {
      "cell_type": "code",
      "source": [
        "# See Column names\n",
        "import pandas as pd\n",
        "import os\n",
        "\n",
        "# Chemins des dossiers de données\n",
        "data_dir = '/content/DL_Bradford/data/processed'\n",
        "train_dir = os.path.join(data_dir, 'train')\n",
        "val_dir = os.path.join(data_dir, 'val')\n",
        "\n",
        "# Fonction pour afficher les colonnes d'un fichier CSV\n",
        "def afficher_colonnes(fichier):\n",
        "    data = pd.read_csv(fichier)\n",
        "    print(f'Colonnes disponibles dans {fichier}: {data.columns.tolist()}')\n",
        "\n",
        "# Prendre un fichier au hasard dans le répertoire train\n",
        "train_files = [os.path.join(train_dir, f) for f in os.listdir(train_dir) if f.endswith('.txt')]\n",
        "if train_files:\n",
        "    print('Affichage des colonnes pour un fichier de train:')\n",
        "    afficher_colonnes(train_files[0])\n",
        "else:\n",
        "    print('Aucun fichier CSV trouvé dans le répertoire train.')\n",
        "\n",
        "# Prendre un fichier au hasard dans le répertoire val\n",
        "val_files = [os.path.join(val_dir, f) for f in os.listdir(val_dir) if f.endswith('.txt')]\n",
        "if val_files:\n",
        "    print('Affichage des colonnes pour un fichier de validation:')\n",
        "    afficher_colonnes(val_files[0])\n",
        "else:\n",
        "    print('Aucun fichier CSV trouvé dans le répertoire val.')\n"
      ],
      "metadata": {
        "colab": {
          "base_uri": "https://localhost:8080/"
        },
        "id": "XUOy6-CapqUI",
        "outputId": "3e38952c-e6b8-4a92-b643-bee2d5b2a792"
      },
      "execution_count": null,
      "outputs": [
        {
          "output_type": "stream",
          "name": "stdout",
          "text": [
            "Affichage des colonnes pour un fichier de train:\n",
            "Colonnes disponibles dans /content/DL_Bradford/data/processed/train/V12_feat_train.txt: ['//X', 'Y', 'Z', 'Rf', 'Gf', 'Bf', 'Planarity_(0.2)', 'Classification', '2nd_eigenvalue_(0.2)', '3rd_eigenvalue_(0.2)', 'Omnivariance_(0.2)', 'Surface_variation_(0.2)', 'Sphericity_(0.2)', 'Verticality_(0.2)']\n",
            "Affichage des colonnes pour un fichier de validation:\n",
            "Colonnes disponibles dans /content/DL_Bradford/data/processed/val/V12_feat_val.txt: ['//X', 'Y', 'Z', 'Rf', 'Gf', 'Bf', 'Planarity_(0.2)', 'Classification', '2nd_eigenvalue_(0.2)', '3rd_eigenvalue_(0.2)', 'Omnivariance_(0.2)', 'Surface_variation_(0.2)', 'Sphericity_(0.2)', 'Verticality_(0.2)']\n"
          ]
        }
      ]
    },
    {
      "cell_type": "code",
      "source": [
        "# Check split\n",
        "import pandas as pd\n",
        "import os\n",
        "\n",
        "# Chemins des dossiers de données\n",
        "data_dir = '/content/DL_Bradford/data/processed'\n",
        "train_dir = os.path.join(data_dir, 'train')\n",
        "val_dir = os.path.join(data_dir, 'val')\n",
        "test_dir = os.path.join(data_dir, 'test')\n",
        "\n",
        "# Fonction pour afficher la taille et les représentants de chaque classe d'un fichier\n",
        "def afficher_taille_et_classes(fichier, sep=',', header=None):\n",
        "    data = pd.read_csv(fichier)\n",
        "    taille = len(data)\n",
        "    classes = data['Classification'].value_counts()\n",
        "    return taille, classes\n",
        "\n",
        "# Liste de tous les fichiers dans les répertoires train et val\n",
        "train_files = [os.path.join(train_dir, f) for f in os.listdir(train_dir) if f.endswith('.csv')]\n",
        "val_files = [os.path.join(val_dir, f) for f in os.listdir(val_dir) if f.endswith('.csv')]\n",
        "test_files = [os.path.join(test_dir, f) for f in os.listdir(test_dir) if f.endswith('.csv')]\n",
        "\n",
        "# Afficher les informations pour les fichiers de train\n",
        "print('Fichiers de train:')\n",
        "for file in train_files:\n",
        "    taille, classes = afficher_taille_et_classes(file)\n",
        "    print(f'Fichier: {file}')\n",
        "    print(f'Taille: {taille} lignes')\n",
        "    print('Classes:')\n",
        "    print(classes)\n",
        "    print()\n",
        "\n",
        "# Afficher les informations pour les fichiers de validation\n",
        "print('Fichiers de validation:')\n",
        "for file in val_files:\n",
        "    taille, classes = afficher_taille_et_classes(file)\n",
        "    print(f'Fichier: {file}')\n",
        "    print(f'Taille: {taille} lignes')\n",
        "    print('Classes:')\n",
        "    print(classes)\n",
        "    print()\n",
        "\n",
        "# Afficher les informations pour les fichiers de test\n",
        "print('Fichiers de test:')\n",
        "for file in test_files:\n",
        "    taille, classes = afficher_taille_et_classes(file)\n",
        "    print(f'Fichier: {file}')\n",
        "    print(f'Taille: {taille} lignes')\n",
        "    print('Classes:')\n",
        "    print(classes)\n",
        "    print()\n"
      ],
      "metadata": {
        "colab": {
          "base_uri": "https://localhost:8080/"
        },
        "id": "vBwl6ospnken",
        "outputId": "44bece3f-69bf-4179-9774-687fd2bc5487"
      },
      "execution_count": null,
      "outputs": [
        {
          "output_type": "stream",
          "name": "stdout",
          "text": [
            "Fichiers de train:\n",
            "Fichier: /content/DL_Bradford/data/processed/train/stratified_train.csv\n",
            "Taille: 1468743 lignes\n",
            "Classes:\n",
            "Classification\n",
            "5    573090\n",
            "9    163400\n",
            "6    145024\n",
            "0    128635\n",
            "8    114560\n",
            "7    101846\n",
            "2     90594\n",
            "4     80411\n",
            "3     71183\n",
            "Name: count, dtype: int64\n",
            "\n",
            "Fichiers de validation:\n",
            "Fichier: /content/DL_Bradford/data/processed/val/V12_feat_val.csv\n",
            "Taille: 369942 lignes\n",
            "Classes:\n",
            "Classification\n",
            "5.0    148137\n",
            "3.0    123813\n",
            "4.0     39310\n",
            "7.0     19556\n",
            "6.0     10814\n",
            "2.0      8644\n",
            "0.0      7861\n",
            "9.0      6026\n",
            "8.0      5781\n",
            "Name: count, dtype: int64\n",
            "\n",
            "Fichiers de test:\n",
            "Fichier: /content/DL_Bradford/data/processed/test/stratified_test.csv\n",
            "Taille: 367186 lignes\n",
            "Classes:\n",
            "Classification\n",
            "5    143272\n",
            "9     40850\n",
            "6     36256\n",
            "0     32159\n",
            "8     28640\n",
            "7     25461\n",
            "2     22649\n",
            "4     20103\n",
            "3     17796\n",
            "Name: count, dtype: int64\n",
            "\n"
          ]
        }
      ]
    },
    {
      "cell_type": "code",
      "source": [
        "import os\n",
        "import pandas as pd\n",
        "from sklearn.model_selection import StratifiedShuffleSplit\n",
        "import matplotlib.pyplot as plt\n",
        "import seaborn as sns\n",
        "\n",
        "# Mapper des valeurs numériques des classes aux noms des classes\n",
        "class_names = {\n",
        "    0: 'arch',\n",
        "    1: 'columns',\n",
        "    2: 'moldings',\n",
        "    3: 'floor',\n",
        "    4: 'window',\n",
        "    5: 'wall',\n",
        "    6: 'stairs',\n",
        "    7: 'door',\n",
        "    8: 'roof',\n",
        "    9: 'other'\n",
        "}\n",
        "\n",
        "# Chemins des dossiers de données\n",
        "data_dir = '/content/DL_Bradford/data/processed'\n",
        "train_dir = os.path.join(data_dir, 'train')\n",
        "test_dir = os.path.join(data_dir, 'test')\n",
        "val_dir = os.path.join(data_dir, 'val')\n",
        "\n",
        "# Créez le dossier test s'il n'existe pas\n",
        "os.makedirs(test_dir, exist_ok=True)\n",
        "\n",
        "# Fonction pour charger les données\n",
        "def load_data(input_dir):\n",
        "    data_frames = []\n",
        "    for file_name in os.listdir(input_dir):\n",
        "        file_path = os.path.join(input_dir, file_name)\n",
        "        df = pd.read_csv(file_path)\n",
        "        data_frames.append(df)\n",
        "        print(f'Loaded {file_name}, columns: {df.columns}')\n",
        "    data = pd.concat(data_frames, ignore_index=True)\n",
        "    return data\n",
        "\n",
        "# Chargement des données d'entraînement\n",
        "data = load_data(train_dir)\n",
        "\n",
        "# Affichage des colonnes disponibles\n",
        "print(f'Colonnes disponibles: {data.columns.tolist()}')\n",
        "\n",
        "# Vérifier s'il y a une colonne 'Classification'\n",
        "if 'Classification' not in data.columns:\n",
        "    raise ValueError('La colonne \"Classification\" est introuvable dans le fichier de données.')\n",
        "\n",
        "# Supprimer les lignes où 'Classification' est NaN\n",
        "data = data.dropna(subset=['Classification'])\n",
        "\n",
        "# Convertir les valeurs de 'Classification' en entiers (si nécessaire)\n",
        "data['Classification'] = data['Classification'].astype(int)\n",
        "\n",
        "# Utiliser StratifiedShuffleSplit pour diviser les données\n",
        "split = StratifiedShuffleSplit(n_splits=1, test_size=0.2, random_state=42)\n",
        "\n",
        "for train_idx, test_idx in split.split(data, data['Classification']):\n",
        "    strat_train_set = data.loc[train_idx]\n",
        "    strat_test_set = data.loc[test_idx]\n",
        "\n",
        "# Sauvegarder les ensembles de train et de test\n",
        "train_save_path = os.path.join(train_dir, 'stratified_train.csv')\n",
        "test_save_path = os.path.join(test_dir, 'stratified_test.csv')\n",
        "\n",
        "strat_train_set.to_csv(train_save_path, index=False)\n",
        "strat_test_set.to_csv(test_save_path, index=False)\n",
        "\n",
        "print(f'Données d\\'entraînement sauvegardées dans {train_save_path}')\n",
        "print(f'Données de test sauvegardées dans {test_save_path}')\n",
        "\n",
        "# Fonction pour afficher la répartition des classes\n",
        "def plot_class_distribution(data, title, output_path):\n",
        "    plt.figure(figsize=(10, 6))\n",
        "    if 'Classification' in data.columns:\n",
        "        data['ClassName'] = data['Classification'].map(class_names)\n",
        "        class_counts = data['ClassName'].value_counts(normalize=True) * 100\n",
        "        sns.barplot(x=class_counts.index, y=class_counts.values)\n",
        "        plt.title(title)\n",
        "        plt.xlabel('Classes')\n",
        "        plt.ylabel('Frequency (%)')\n",
        "        plt.xticks(rotation=45)\n",
        "        for i, v in enumerate(class_counts.values):\n",
        "            plt.text(i, v + 0.5, f\"{v:.2f}%\", ha='center', va='bottom')\n",
        "        plt.tight_layout()\n",
        "        plt.savefig(output_path)\n",
        "        plt.close()\n",
        "    else:\n",
        "        print(f\"Error: 'Classification' column not found in data for {title}\")\n",
        "\n",
        "# Afficher la répartition des classes dans les ensembles de train et de test\n",
        "visualization_dir = 'results/visualizations'\n",
        "os.makedirs(visualization_dir, exist_ok=True)\n",
        "\n",
        "plot_class_distribution(strat_train_set, 'Training Data Class Distribution',\n",
        "                        os.path.join(visualization_dir, 'training_data_distribution.png'))\n",
        "\n",
        "plot_class_distribution(strat_test_set, 'Test Data Class Distribution',\n",
        "                        os.path.join(visualization_dir, 'test_data_distribution.png'))\n",
        "\n",
        "# Fonction pour afficher la taille et les représentants de chaque classe d'un fichier\n",
        "def afficher_taille_et_classes(fichier, sep=',', header=None):\n",
        "    data = pd.read_csv(fichier)\n",
        "    taille = len(data)\n",
        "    classes = data['Classification'].value_counts()\n",
        "    return taille, classes\n",
        "\n",
        "# Liste de tous les fichiers dans les répertoires train et val\n",
        "train_files = [os.path.join(train_dir, f) for f in os.listdir(train_dir) if f.endswith('.csv')]\n",
        "val_files = [os.path.join(val_dir, f) for f in os.listdir(val_dir) if f.endswith('.csv')]\n",
        "\n",
        "# Afficher les informations pour les fichiers de train\n",
        "print('Fichiers de train:')\n",
        "for file in train_files:\n",
        "    taille, classes = afficher_taille_et_classes(file)\n",
        "    print(f'Fichier: {file}')\n",
        "    print(f'Taille: {taille} lignes')\n",
        "    print('Classes:')\n",
        "    print(classes)\n",
        "    print()\n",
        "\n",
        "# Afficher les informations pour les fichiers de validation\n",
        "print('Fichiers de validation:')\n",
        "for file in val_files:\n",
        "    taille, classes = afficher_taille_et_classes(file)\n",
        "    print(f'Fichier: {file}')\n",
        "    print(f'Taille: {taille} lignes')\n",
        "    print('Classes:')\n",
        "    print(classes)\n",
        "    print()\n"
      ],
      "metadata": {
        "colab": {
          "base_uri": "https://localhost:8080/"
        },
        "id": "Ub_L3tdJ-PNQ",
        "outputId": "3f20a530-c8a1-4177-f580-d8ef30236666"
      },
      "execution_count": null,
      "outputs": [
        {
          "output_type": "stream",
          "name": "stdout",
          "text": [
            "Loaded V12_feat_train.txt, columns: Index(['//X', 'Y', 'Z', 'Rf', 'Gf', 'Bf', 'Planarity_(0.2)', 'Classification',\n",
            "       '2nd_eigenvalue_(0.2)', '3rd_eigenvalue_(0.2)', 'Omnivariance_(0.2)',\n",
            "       'Surface_variation_(0.2)', 'Sphericity_(0.2)', 'Verticality_(0.2)'],\n",
            "      dtype='object')\n",
            "Colonnes disponibles: ['//X', 'Y', 'Z', 'Rf', 'Gf', 'Bf', 'Planarity_(0.2)', 'Classification', '2nd_eigenvalue_(0.2)', '3rd_eigenvalue_(0.2)', 'Omnivariance_(0.2)', 'Surface_variation_(0.2)', 'Sphericity_(0.2)', 'Verticality_(0.2)']\n"
          ]
        },
        {
          "output_type": "stream",
          "name": "stderr",
          "text": [
            "<ipython-input-8-efec9376ed61>:55: SettingWithCopyWarning: \n",
            "A value is trying to be set on a copy of a slice from a DataFrame.\n",
            "Try using .loc[row_indexer,col_indexer] = value instead\n",
            "\n",
            "See the caveats in the documentation: https://pandas.pydata.org/pandas-docs/stable/user_guide/indexing.html#returning-a-view-versus-a-copy\n",
            "  data['Classification'] = data['Classification'].astype(int)\n"
          ]
        },
        {
          "output_type": "stream",
          "name": "stdout",
          "text": [
            "Données d'entraînement sauvegardées dans /content/DL_Bradford/data/processed/train/stratified_train.csv\n",
            "Données de test sauvegardées dans /content/DL_Bradford/data/processed/test/stratified_test.csv\n",
            "Fichiers de train:\n",
            "Fichier: /content/DL_Bradford/data/processed/train/stratified_train.csv\n",
            "Taille: 1468743 lignes\n",
            "Classes:\n",
            "Classification\n",
            "5    573090\n",
            "9    163400\n",
            "6    145024\n",
            "0    128635\n",
            "8    114560\n",
            "7    101846\n",
            "2     90594\n",
            "4     80411\n",
            "3     71183\n",
            "Name: count, dtype: int64\n",
            "\n",
            "Fichiers de validation:\n"
          ]
        }
      ]
    },
    {
      "cell_type": "code",
      "source": [
        "torch.cuda.is_available()\n",
        "torch.cuda.get_device_name(0)"
      ],
      "metadata": {
        "colab": {
          "base_uri": "https://localhost:8080/",
          "height": 55
        },
        "id": "uzEKTZWlDGMf",
        "outputId": "b4fade1d-c5b5-4d9d-9af4-f2e1389850ea"
      },
      "execution_count": null,
      "outputs": [
        {
          "output_type": "execute_result",
          "data": {
            "text/plain": [
              "'Tesla T4'"
            ],
            "application/vnd.google.colaboratory.intrinsic+json": {
              "type": "string"
            }
          },
          "metadata": {},
          "execution_count": 22
        }
      ]
    },
    {
      "cell_type": "code",
      "source": [
        "!apt update && apt install cuda-11-8"
      ],
      "metadata": {
        "id": "yMYx0QnCIwT4"
      },
      "execution_count": null,
      "outputs": []
    },
    {
      "cell_type": "code",
      "source": [
        "# Run Train\n",
        "!python DL_Bradford/scripts/train_for_notebook.py --alpha 0.25 --gamma 2"
      ],
      "metadata": {
        "id": "K2ad8Sv6K7OJ",
        "colab": {
          "base_uri": "https://localhost:8080/"
        },
        "outputId": "f7e37508-6a38-45a1-9f49-ef7760309737"
      },
      "execution_count": 49,
      "outputs": [
        {
          "output_type": "stream",
          "name": "stdout",
          "text": [
            "Using device: cpu\n",
            "Models will be saved to: /content/DL_Bradford/checkpoints/\n",
            "Using provided alpha=0.25 and gamma=2.0 for training.\n",
            "Training with alpha=0.250, gamma=2.000\n",
            "Training model:\n",
            "ResNetPointNet\n",
            "Epoch [1/8], Loss: 0.001398512687698519, Time: 258.72 seconds\n",
            "Epoch [2/8], Loss: 0.0002974766629391386, Time: 258.75 seconds\n",
            "Epoch [3/8], Loss: 0.00022091149228941736, Time: 255.11 seconds\n",
            "Epoch [4/8], Loss: 0.00018015559418966653, Time: 256.42 seconds\n",
            "Epoch [5/8], Loss: 0.0001541383636150534, Time: 256.41 seconds\n",
            "Epoch [6/8], Loss: 0.0001385539291941471, Time: 257.15 seconds\n",
            "Epoch [7/8], Loss: 0.00012612305696393952, Time: 253.97 seconds\n",
            "Epoch [8/8], Loss: 0.00011787382947541742, Time: 255.27 seconds\n",
            "Finished Training\n",
            "/usr/local/lib/python3.10/dist-packages/sklearn/metrics/_classification.py:1344: UndefinedMetricWarning: Precision is ill-defined and being set to 0.0 in labels with no predicted samples. Use `zero_division` parameter to control this behavior.\n",
            "  _warn_prf(average, modifier, msg_start, len(result))\n",
            "Validation Loss: 0.0146, Accuracy: 0.6437, F1 Score: 0.6517\n",
            "Model saved to /content/DL_Bradford/checkpoints/model_FL_alpha_0.250_gamma_2.000.pth\n",
            "Best params: {}\n",
            "Traceback (most recent call last):\n",
            "  File \"/content/DL_Bradford/scripts/train_for_notebook.py\", line 177, in <module>\n",
            "    print('Model saved to ' + best_model_save_path)\n",
            "NameError: name 'best_model_save_path' is not defined. Did you mean: 'model_save_path'?\n"
          ]
        }
      ]
    },
    {
      "cell_type": "code",
      "source": [
        "!python DL_Bradford/scripts/predict.py"
      ],
      "metadata": {
        "colab": {
          "base_uri": "https://localhost:8080/"
        },
        "id": "cnu7HG6yQ0Df",
        "outputId": "1c42d6d8-4c21-4ca5-a3b6-5a95fcf4b49e"
      },
      "execution_count": 52,
      "outputs": [
        {
          "output_type": "stream",
          "name": "stdout",
          "text": [
            "Using device: cpu\n",
            "Validation Loss: 0.0001\n",
            "Accuracy: 0.9528\n",
            "F1 Score: 0.9528\n",
            "Balanced Accuracy: 0.9438\n",
            "Precision: 0.9534\n",
            "Recall: 0.9528\n",
            "Unique labels in y_true: [0 2 3 4 5 6 7 8 9]\n",
            "Unique labels in y_pred: [0 2 3 4 5 6 7 8 9]\n",
            "Figure(1200x1000)\n"
          ]
        }
      ]
    },
    {
      "cell_type": "code",
      "source": [
        "!python DL_Bradford/scripts/preprocess_data.py"
      ],
      "metadata": {
        "colab": {
          "base_uri": "https://localhost:8080/"
        },
        "id": "qMSX5vr-9DT3",
        "outputId": "9e2f27e4-0f18-4fad-a4b1-253ce8ba5cee"
      },
      "execution_count": 78,
      "outputs": [
        {
          "output_type": "stream",
          "name": "stdout",
          "text": [
            "Preprocessing test data...\n",
            "Processing files in /content/DL_Bradford/data/raw/test, saving to /content/DL_Bradford/data/processed/test, balance=False, isTesting=True\n",
            "Skipping directory: /content/DL_Bradford/data/raw/test/.ipynb_checkpoints\n",
            "Processing file: /content/DL_Bradford/data/raw/test/V12_UK_feat_pred.txt\n",
            "Preprocessing file: /content/DL_Bradford/data/raw/test/V12_UK_feat_pred.txt\n",
            "Initial data shape: (777747, 24)\n",
            "Initial columns: [0, 1, 2, 3, 4, 5, 6, 7, 8, 9, 10, 11, 12, 13, 14, 15, 16, 17, 18, 19, 20, 21, 22, 23]\n",
            "Columns after renaming: ['//X', 'Y', 'Z', 'Rf', 'Gf', 'Bf', 'Original_cloud_index', 'Classification', 'Surface_variation_(0.1)', 'Verticality_(0.1)', 'Planarity_(0.1)', 'PCA2_(0.1)', 'PCA1_(0.1)', '1st_eigenvalue_(0.2)', '2nd_eigenvalue_(0.2)', '3rd_eigenvalue_(0.2)', 'Omnivariance_(0.2)', 'Planarity_(0.2)', 'Surface_variation_(0.2)', 'Sphericity_(0.2)', 'Verticality_(0.2)', 'Nx', 'Ny', 'Nz']\n",
            "Data shape after selecting columns: (777747, 13)\n",
            "Data shape after dropping NA: (777747, 13)\n",
            "Preprocessed data shape: (777747, 13)\n",
            "Traceback (most recent call last):\n",
            "  File \"/usr/local/lib/python3.10/dist-packages/pandas/io/formats/csvs.py\", line 259, in save\n",
            "    self._save()\n",
            "  File \"/usr/local/lib/python3.10/dist-packages/pandas/io/formats/csvs.py\", line 264, in _save\n",
            "    self._save_body()\n",
            "  File \"/usr/local/lib/python3.10/dist-packages/pandas/io/formats/csvs.py\", line 302, in _save_body\n",
            "    self._save_chunk(start_i, end_i)\n",
            "  File \"/usr/local/lib/python3.10/dist-packages/pandas/io/formats/csvs.py\", line 309, in _save_chunk\n",
            "    res = df._mgr.to_native_types(**self._number_format)\n",
            "  File \"/usr/local/lib/python3.10/dist-packages/pandas/core/internals/managers.py\", line 512, in to_native_types\n",
            "    return self.apply(\"to_native_types\", **kwargs)\n",
            "  File \"/usr/local/lib/python3.10/dist-packages/pandas/core/internals/managers.py\", line 352, in apply\n",
            "    applied = getattr(b, f)(**kwargs)\n",
            "  File \"/usr/local/lib/python3.10/dist-packages/pandas/core/internals/blocks.py\", line 531, in to_native_types\n",
            "    result = to_native_types(self.values, na_rep=na_rep, quoting=quoting, **kwargs)\n",
            "  File \"/usr/local/lib/python3.10/dist-packages/pandas/core/internals/blocks.py\", line 2538, in to_native_types\n",
            "    values = values.astype(str)\n",
            "KeyboardInterrupt\n",
            "\n",
            "During handling of the above exception, another exception occurred:\n",
            "\n",
            "Traceback (most recent call last):\n",
            "  File \"/content/DL_Bradford/scripts/preprocess_data.py\", line 157, in <module>\n",
            "    preprocess_data(os.path.join(raw_data_dir, 'test'), os.path.join(processed_data_dir, 'test'), isTesting=True)\n",
            "  File \"/content/DL_Bradford/scripts/preprocess_data.py\", line 143, in preprocess_data\n",
            "    data.to_csv(output_path, index=False)\n",
            "  File \"/usr/local/lib/python3.10/dist-packages/pandas/core/generic.py\", line 3772, in to_csv\n",
            "    return DataFrameRenderer(formatter).to_csv(\n",
            "  File \"/usr/local/lib/python3.10/dist-packages/pandas/io/formats/format.py\", line 1186, in to_csv\n",
            "    csv_formatter.save()\n",
            "  File \"/usr/local/lib/python3.10/dist-packages/pandas/io/formats/csvs.py\", line 240, in save\n",
            "    with get_handle(\n",
            "  File \"/usr/local/lib/python3.10/dist-packages/pandas/io/common.py\", line 138, in __exit__\n",
            "    self.close()\n",
            "  File \"/usr/local/lib/python3.10/dist-packages/pandas/io/common.py\", line 130, in close\n",
            "    handle.close()\n",
            "KeyboardInterrupt\n",
            "^C\n"
          ]
        }
      ]
    },
    {
      "cell_type": "code",
      "source": [
        "import torch\n",
        "import yaml\n",
        "import os\n",
        "import sys\n",
        "\n",
        "# Ajouter le chemin du dépôt au sys.path\n",
        "repo_path = '/content/DL_Bradford'\n",
        "sys.path.append(repo_path)\n",
        "\n",
        "# Import du modèle spécifique\n",
        "from models.modelV3_augmented import ResNetPointNet\n",
        "\n",
        "# Charger la configuration du modèle\n",
        "with open(os.path.join(repo_path, 'configs/model_config.yaml'), 'r') as file:\n",
        "    model_config = yaml.safe_load(file)\n",
        "\n",
        "# Initialiser le modèle avec les paramètres de la configuration\n",
        "model = ResNetPointNet(\n",
        "    model_config['model_V3_augmented']['input_size'],\n",
        "    model_config['model_V3_augmented']['hidden_layer1_size'],\n",
        "    model_config['model_V3_augmented']['hidden_layer2_size'],\n",
        "    model_config['model_V3_augmented']['num_classes']\n",
        ")\n",
        "\n",
        "# Charger les poids du modèle\n",
        "model_name = 'model_FL_alpha_0.250_gamma_2.000'\n",
        "checkpoint_path = os.path.join(repo_path, 'checkpoints', f'{model_name}.pth')\n",
        "checkpoint = torch.load(checkpoint_path, map_location=torch.device('cpu'))\n",
        "model.load_state_dict(checkpoint)\n",
        "\n",
        "# Afficher les dimensions de l'entrée attendue par le modèle\n",
        "print(\"Dimensions des features attendues par le modèle:\")\n",
        "print(f\"Input feature size: {model.fc_initial.in_features}\")\n"
      ],
      "metadata": {
        "colab": {
          "base_uri": "https://localhost:8080/"
        },
        "id": "mpq-IuZxNg9o",
        "outputId": "464ec22b-f9b8-4c20-9593-158ecd98edfd"
      },
      "execution_count": 55,
      "outputs": [
        {
          "output_type": "stream",
          "name": "stdout",
          "text": [
            "Dimensions des features attendues par le modèle:\n",
            "Input feature size: 13\n"
          ]
        }
      ]
    },
    {
      "cell_type": "code",
      "source": [
        "!python DL_Bradford/scripts/predict_unlabelled.py"
      ],
      "metadata": {
        "id": "ejx4jfWw8D8n",
        "colab": {
          "base_uri": "https://localhost:8080/"
        },
        "outputId": "fca9d8ff-b743-4984-c738-7a88f3328aa3"
      },
      "execution_count": 73,
      "outputs": [
        {
          "output_type": "stream",
          "name": "stdout",
          "text": [
            "Using device: cpu\n",
            "Colonnes du DataFrame chargé :  Index(['//X', 'Y', 'Z', 'Rf', 'Gf', 'Bf', 'Planarity_(0.2)',\n",
            "       '2nd_eigenvalue_(0.2)', '3rd_eigenvalue_(0.2)', 'Omnivariance_(0.2)',\n",
            "       'Surface_variation_(0.2)', 'Sphericity_(0.2)', 'Verticality_(0.2)'],\n",
            "      dtype='object')\n",
            "Predictions saved to results/predictions/predictions_unlabelled.csv\n"
          ]
        }
      ]
    },
    {
      "cell_type": "code",
      "source": [
        "\n",
        "!python  DL_Bradford/scripts/analyse_prediction.py"
      ],
      "metadata": {
        "colab": {
          "base_uri": "https://localhost:8080/"
        },
        "id": "WpXNBRK41a7t",
        "outputId": "0f1b8176-6e59-4e5f-f50d-db34406c6381"
      },
      "execution_count": 85,
      "outputs": [
        {
          "output_type": "stream",
          "name": "stdout",
          "text": [
            "Class distribution (in %):\n",
            "Predicted\n",
            "wall        72.936829\n",
            "window       9.339027\n",
            "arch         4.843349\n",
            "moldings     4.505064\n",
            "floor        4.220010\n",
            "door         2.858770\n",
            "roof         1.296437\n",
            "other        0.000514\n",
            "Name: proportion, dtype: float64\n",
            "Figure(1000x600)\n"
          ]
        }
      ]
    },
    {
      "cell_type": "code",
      "source": [
        "import os\n",
        "\n",
        "file_name = \"/content/results/predictions/predictions_unlabelled.csv\"\n",
        "\n",
        "file_stats = os.stat(file_name)\n",
        "\n",
        "print(file_stats)\n",
        "print(f'File Size in Bytes is {file_stats.st_size}')\n",
        "print(f'File Size in MegaBytes is {file_stats.st_size / (1024 * 1024)}')"
      ],
      "metadata": {
        "colab": {
          "base_uri": "https://localhost:8080/"
        },
        "id": "dyj7gvqwo9_x",
        "outputId": "53ad27d2-5431-4ec2-b458-53c408a2179b"
      },
      "execution_count": 63,
      "outputs": [
        {
          "output_type": "stream",
          "name": "stdout",
          "text": [
            "os.stat_result(st_mode=33188, st_ino=5243186, st_dev=51, st_nlink=1, st_uid=0, st_gid=0, st_size=52870337, st_atime=1721755384, st_mtime=1721755301, st_ctime=1721755301)\n",
            "File Size in Bytes is 52870337\n",
            "File Size in MegaBytes is 50.421082496643066\n"
          ]
        }
      ]
    },
    {
      "cell_type": "code",
      "source": [
        "import pandas as pd\n",
        "\n",
        "def count_csv_lines(file_path):\n",
        "    df = pd.read_csv(file_path, sep=' ')\n",
        "    line_count = len(df)\n",
        "    return line_count\n",
        "\n",
        "file_path = '/content/DL_Bradford/data/raw/test/V12_UK_feat_pred.txt'\n",
        "nombre_de_lignes = count_csv_lines(file_path)\n",
        "print(f'Le fichier raw CSV possède {nombre_de_lignes} lignes.')\n",
        "\n",
        "file_path = '/content/DL_Bradford/data/processed/test/V12_UK_feat_pred.txt'\n",
        "nombre_de_lignes = count_csv_lines(file_path)\n",
        "print(f'Le fichier processed CSV possède {nombre_de_lignes} lignes.')\n"
      ],
      "metadata": {
        "colab": {
          "base_uri": "https://localhost:8080/"
        },
        "id": "ucdd19Jvsvsj",
        "outputId": "67ef23f1-e80c-47bc-c48e-6df32bc2afc1"
      },
      "execution_count": 72,
      "outputs": [
        {
          "output_type": "stream",
          "name": "stdout",
          "text": [
            "Le fichier raw CSV possède 777747 lignes.\n",
            "Le fichier processed CSV possède 777747 lignes.\n"
          ]
        }
      ]
    }
  ]
}